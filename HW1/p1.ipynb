{
 "cells": [
  {
   "cell_type": "code",
   "execution_count": 20,
   "metadata": {},
   "outputs": [],
   "source": [
    "import random\n",
    "import numpy as np\n",
    "import matplotlib.pyplot as plt"
   ]
  },
  {
   "cell_type": "code",
   "execution_count": 21,
   "metadata": {},
   "outputs": [],
   "source": [
    "S = range(1, 1001)"
   ]
  },
  {
   "cell_type": "code",
   "execution_count": 22,
   "metadata": {},
   "outputs": [],
   "source": [
    "def first_duplicate_draw():\n",
    "    seen = set()\n",
    "    k = 0\n",
    "    while True:\n",
    "        k += 1\n",
    "        x = random.choice(S)\n",
    "        if x in seen:\n",
    "            return k\n",
    "        seen.add(x)"
   ]
  },
  {
   "cell_type": "code",
   "execution_count": 23,
   "metadata": {},
   "outputs": [
    {
     "name": "stdout",
     "output_type": "stream",
     "text": [
      "It took 35 draws to get the first repeated value.\n"
     ]
    }
   ],
   "source": [
    "k = first_duplicate_draw()\n",
    "print(f\"It took {k} draws to get the first repeated value.\")"
   ]
  },
  {
   "cell_type": "code",
   "execution_count": 24,
   "metadata": {},
   "outputs": [
    {
     "data": {
      "image/png": "[encoded data removed]",
      "text/plain": [
       "<Figure size 640x480 with 1 Axes>"
      ]
     },
     "metadata": {},
     "output_type": "display_data"
    }
   ],
   "source": [
    "N = 300\n",
    "\n",
    "k_values = []\n",
    "for _ in range(N):\n",
    "    k = first_duplicate_draw()\n",
    "    k_values.append(k)\n",
    "\n",
    "k_values = np.array(k_values)\n",
    "k_values_sorted = np.sort(k_values)\n",
    "\n",
    "cdf = np.arange(1, N+1) / N\n",
    "\n",
    "plt.plot(k_values_sorted, cdf)\n",
    "plt.xlabel(\"k\")\n",
    "plt.ylabel(\"CDF\")\n",
    "plt.show()"
   ]
  },
  {
   "cell_type": "code",
   "execution_count": 25,
   "metadata": {},
   "outputs": [
    {
     "name": "stdout",
     "output_type": "stream",
     "text": [
      "The expected number of trials to have a collision is 39.81.\n"
     ]
    }
   ],
   "source": [
    "expected_k = np.mean(k_values)\n",
    "print(f\"The expected number of trials to have a collision is {expected_k}.\")"
   ]
  },
  {
   "cell_type": "code",
   "execution_count": 26,
   "metadata": {},
   "outputs": [
    {
     "name": "stdout",
     "output_type": "stream",
     "text": [
      "The k_value at CDF = 0.5 is 38.\n"
     ]
    }
   ],
   "source": [
    "index = np.searchsorted(cdf, 0.5)\n",
    "\n",
    "k_value_at_5 = k_values_sorted[index]\n",
    "print(f\"The k_value at CDF = 0.5 is {k_value_at_5}.\")"
   ]
  },
  {
   "cell_type": "code",
   "execution_count": 27,
   "metadata": {},
   "outputs": [
    {
     "name": "stdout",
     "output_type": "stream",
     "text": [
      "The k_value at CDF = 0.75 is 54.\n"
     ]
    }
   ],
   "source": [
    "index = np.searchsorted(cdf, 1-0.25)\n",
    "k_value_at_75 = k_values_sorted[index]\n",
    "print(f\"The k_value at CDF = 0.75 is {k_value_at_75}.\")"
   ]
  },
  {
   "cell_type": "code",
   "execution_count": 29,
   "metadata": {},
   "outputs": [
    {
     "name": "stdout",
     "output_type": "stream",
     "text": [
      "The k_value at CDF = 0.9 is 67.\n"
     ]
    }
   ],
   "source": [
    "index = np.searchsorted(cdf, 1-0.1)\n",
    "k_value_at_90 = k_values_sorted[index]\n",
    "print(f\"The k_value at CDF = 0.9 is {k_value_at_90}.\")"
   ]
  }
 ],
 "metadata": {
  "kernelspec": {
   "display_name": "base",
   "language": "python",
   "name": "python3"
  },
  "language_info": {
   "codemirror_mode": {
    "name": "ipython",
    "version": 3
   },
   "file_extension": ".py",
   "mimetype": "text/x-python",
   "name": "python",
   "nbconvert_exporter": "python",
   "pygments_lexer": "ipython3",
   "version": "3.11.3"
  }
 },
 "nbformat": 4,
 "nbformat_minor": 2
}
