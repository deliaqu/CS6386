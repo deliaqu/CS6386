{
 "cells": [
  {
   "cell_type": "markdown",
   "id": "3738073f",
   "metadata": {},
   "source": [
    "# In this question, you will be implementing a bloom filter and calculate false positive rate on varying its length\n"
   ]
  },
  {
   "cell_type": "code",
   "execution_count": 38,
   "id": "24a70e35",
   "metadata": {},
   "outputs": [
    {
     "name": "stderr",
     "output_type": "stream",
     "text": [
      "/var/folders/dk/fythzssx3lq37wtzhfb9yl6c0000gq/T/ipykernel_27130/2071717546.py:3: DtypeWarning: Columns (17,18,20,22,23,29,30,31,32,36,38,39) have mixed types. Specify dtype option on import or set low_memory=False.\n",
      "  df=pd.read_csv(path+'pvqr-7yc4.csv')\n"
     ]
    }
   ],
   "source": [
    "import pandas as pd\n",
    "path = '/Users/zq84/CS6386/HW1/datarepo/'\n",
    "df=pd.read_csv(path+'pvqr-7yc4.csv')"
   ]
  },
  {
   "cell_type": "markdown",
   "id": "9e3518e1",
   "metadata": {},
   "source": [
    "We will be using insert_lst as the set of elements to insert into the filter"
   ]
  },
  {
   "cell_type": "code",
   "execution_count": 39,
   "id": "99550c16",
   "metadata": {},
   "outputs": [],
   "source": [
    "insert_lst = (list(df['Summons Number'].values))"
   ]
  },
  {
   "cell_type": "markdown",
   "id": "6bd5a9f6",
   "metadata": {},
   "source": [
    "# Part 1: Implement the class file\n",
    "Below is the bloom filter class. You have to implement two functions\n",
    "\n",
    "i. Add: which adds an element to the filter\n",
    "\n",
    "ii. lookup: which checks for the presence of an element in the filter\n",
    "\n",
    "### Information about hashing: \n",
    "hash_params is a list of k elements, where each element corresponds to the parameters of a hash function. \n",
    "You can use the calculate_hash function to hash each element. Specifically, it takes an element along with any hash parameter as input and returns its hash value."
   ]
  },
  {
   "cell_type": "code",
   "execution_count": 40,
   "id": "5b05615f",
   "metadata": {},
   "outputs": [],
   "source": [
    "from bitarray import bitarray\n",
    "import hashlib\n",
    "import random\n",
    "import math\n",
    "random.seed(0)\n",
    "\n",
    "class BloomFilter(object):\n",
    "    def __init__(self, size, hash_count):\n",
    "        \"\"\"\n",
    "        size: size of bit array\n",
    "        hash_count: number of hash functions to use\n",
    "        \"\"\"\n",
    "        self.size = size\n",
    "        self.hash_count = hash_count\n",
    "        self.bit_array = bitarray(size)\n",
    "        self.bit_array.setall(0)\n",
    "        self.hash_param = []\n",
    "        i=0\n",
    "        while i<hash_count:\n",
    "            a=random.randint(1,9999)\n",
    "            b=random.randint(1,9999)\n",
    "            p = self.generate_large_prime(30)\n",
    "            self.hash_param.append((a,b,p))\n",
    "            i+=1\n",
    "            \n",
    "    def generate_large_prime(self, bit_size):\n",
    "\n",
    "        random_number = random.getrandbits(bit_size)\n",
    "        \n",
    "        while not self.is_prime(random_number):\n",
    "            random_number = random.getrandbits(bit_size)\n",
    "        return random_number\n",
    "\n",
    "    def is_prime(self, number):\n",
    "        if number % 2 == 0:\n",
    "            return False\n",
    "\n",
    "\n",
    "        for i in range(3, int(math.sqrt(number)) + 1, 2):\n",
    "            if number % i == 0:\n",
    "                return False\n",
    "\n",
    "        return True\n",
    "    def calculate_hash(self,item,hash_params):\n",
    "        item_val = (hash_params[0]*item + hash_params[1])%hash_params[2]\n",
    "        #print (item_val,hash_params[2])\n",
    "        return item_val\n",
    "    \n",
    "    \n",
    "    def add(self, item):\n",
    "        \"\"\"\n",
    "        Add an item in the filter\n",
    "        \"\"\"\n",
    "        for i in range(self.hash_count):\n",
    "            hash_val = self.calculate_hash(item,self.hash_param[i])\n",
    "            self.bit_array[hash_val%self.size] = 1\n",
    "        return self.bit_array\n",
    "        \n",
    "\n",
    "    def lookup(self, item):\n",
    "        \"\"\"\n",
    "        Check for existence of an item in filter\n",
    "        \"\"\"\n",
    "        \n",
    "        for i in range(self.hash_count):\n",
    "            hash_val = self.calculate_hash(item,self.hash_param[i])\n",
    "            if self.bit_array[hash_val%self.size] == 0:\n",
    "                return False\n",
    "        return True \n",
    "\n"
   ]
  },
  {
   "cell_type": "markdown",
   "id": "450c1359",
   "metadata": {},
   "source": [
    "# Part 2: Calculate false positive rate\n",
    "1. You need to extend this code to calculate false negative and false positive rate as a function of bloom filter length. To calculate these values, you need to check for presence of bloom_filter_check.csv values in the bloom filter.\n",
    "\n",
    "    Plot false positive rate vs m and false negative rate vs m (where m is the length of bloom filter).\n",
    "    Fix k = 3\n",
    "    \n",
    "    Even if you know what false positive/negative rate should be, the goal of this exercise is to verify if your code is as expected\n",
    "\n",
    "2. Find the smallest length such that false positive rate is less than 0.10"
   ]
  },
  {
   "cell_type": "code",
   "execution_count": 41,
   "id": "8a0ae187",
   "metadata": {},
   "outputs": [],
   "source": [
    "from tqdm import tqdm\n",
    "\n",
    "def test_bloom_filter(m_values, values_to_check, insert_set):\n",
    "    num_values = len(values_to_check)\n",
    "    false_positives = []\n",
    "    false_negatives = []\n",
    "    for m in m_values:\n",
    "        bf = BloomFilter(m, 3)\n",
    "        for val in insert_lst:\n",
    "            bf.add(val)\n",
    "        print(\"Inserted all values for m = \", m)\n",
    "\n",
    "        num_false_positives = 0\n",
    "        num_false_negatives = 0\n",
    "        for val in tqdm(values_to_check):\n",
    "            exists_in_bloom_filter = bf.lookup(val)\n",
    "            exists_in_insert_set = val in insert_set\n",
    "            if exists_in_bloom_filter and not exists_in_insert_set:\n",
    "                num_false_positives += 1\n",
    "            if not exists_in_bloom_filter and exists_in_insert_set:\n",
    "                num_false_negatives += 1\n",
    "        false_positives.append(num_false_positives/num_values)\n",
    "        false_negatives.append(num_false_negatives/num_values)\n",
    "    return false_positives, false_negatives\n",
    "    "
   ]
  },
  {
   "cell_type": "code",
   "execution_count": 42,
   "id": "650595b4",
   "metadata": {},
   "outputs": [],
   "source": [
    "import matplotlib.pyplot as plt\n",
    "\n",
    "def plot_false_positives_and_negatives(m_values, false_positives, false_negatives):\n",
    "    plt.plot(m_values, false_positives, label='False positives')\n",
    "    plt.plot(m_values, false_negatives, label='False negatives')\n",
    "    plt.xlabel('Size of bit array (m)')\n",
    "    plt.ylabel('False positive/negative rate')\n",
    "    plt.legend()\n",
    "    plt.show()"
   ]
  },
  {
   "cell_type": "code",
   "execution_count": 43,
   "id": "967d9604",
   "metadata": {},
   "outputs": [
    {
     "name": "stdout",
     "output_type": "stream",
     "text": [
      "Inserted all values for m =  10000000\n"
     ]
    },
    {
     "name": "stderr",
     "output_type": "stream",
     "text": [
      "100%|██████████| 300000/300000 [00:00<00:00, 1177477.39it/s]\n"
     ]
    },
    {
     "name": "stdout",
     "output_type": "stream",
     "text": [
      "Inserted all values for m =  20000000\n"
     ]
    },
    {
     "name": "stderr",
     "output_type": "stream",
     "text": [
      "100%|██████████| 300000/300000 [00:00<00:00, 1199720.83it/s]\n"
     ]
    },
    {
     "name": "stdout",
     "output_type": "stream",
     "text": [
      "Inserted all values for m =  30000000\n"
     ]
    },
    {
     "name": "stderr",
     "output_type": "stream",
     "text": [
      "100%|██████████| 300000/300000 [00:00<00:00, 1105192.24it/s]\n"
     ]
    },
    {
     "name": "stdout",
     "output_type": "stream",
     "text": [
      "Inserted all values for m =  40000000\n"
     ]
    },
    {
     "name": "stderr",
     "output_type": "stream",
     "text": [
      "100%|██████████| 300000/300000 [00:00<00:00, 1236378.86it/s]\n"
     ]
    },
    {
     "name": "stdout",
     "output_type": "stream",
     "text": [
      "Inserted all values for m =  50000000\n"
     ]
    },
    {
     "name": "stderr",
     "output_type": "stream",
     "text": [
      "100%|██████████| 300000/300000 [00:00<00:00, 1080718.37it/s]\n"
     ]
    },
    {
     "name": "stdout",
     "output_type": "stream",
     "text": [
      "Inserted all values for m =  60000000\n"
     ]
    },
    {
     "name": "stderr",
     "output_type": "stream",
     "text": [
      "100%|██████████| 300000/300000 [00:00<00:00, 1170499.09it/s]\n"
     ]
    },
    {
     "name": "stdout",
     "output_type": "stream",
     "text": [
      "Inserted all values for m =  70000000\n"
     ]
    },
    {
     "name": "stderr",
     "output_type": "stream",
     "text": [
      "100%|██████████| 300000/300000 [00:00<00:00, 1234812.48it/s]\n"
     ]
    },
    {
     "name": "stdout",
     "output_type": "stream",
     "text": [
      "Inserted all values for m =  80000000\n"
     ]
    },
    {
     "name": "stderr",
     "output_type": "stream",
     "text": [
      "100%|██████████| 300000/300000 [00:00<00:00, 1189287.55it/s]\n"
     ]
    },
    {
     "name": "stdout",
     "output_type": "stream",
     "text": [
      "Inserted all values for m =  90000000\n"
     ]
    },
    {
     "name": "stderr",
     "output_type": "stream",
     "text": [
      "100%|██████████| 300000/300000 [00:00<00:00, 1065708.15it/s]\n"
     ]
    },
    {
     "data": {
      "image/png": "[encoded data removed]",
      "text/plain": [
       "<Figure size 640x480 with 1 Axes>"
      ]
     },
     "metadata": {},
     "output_type": "display_data"
    }
   ],
   "source": [
    "values_to_check = pd.read_csv('bloom_filter_check.csv', header=None)[0].values\n",
    "insert_set = set(insert_lst)\n",
    "\n",
    "m_values = range(int(1e7), int(1e8), int(1e7))\n",
    "\n",
    "false_positives, false_negatives = test_bloom_filter(m_values, values_to_check, insert_set)\n",
    "\n",
    "plot_false_positives_and_negatives(m_values, false_positives, false_negatives)\n"
   ]
  },
  {
   "cell_type": "code",
   "execution_count": 44,
   "id": "0689b6b4",
   "metadata": {},
   "outputs": [
    {
     "name": "stdout",
     "output_type": "stream",
     "text": [
      "Inserted all values for m =  10000000\n"
     ]
    },
    {
     "name": "stderr",
     "output_type": "stream",
     "text": [
      "100%|██████████| 300000/300000 [00:00<00:00, 1003811.85it/s]\n"
     ]
    },
    {
     "name": "stdout",
     "output_type": "stream",
     "text": [
      "Inserted all values for m =  11000000\n"
     ]
    },
    {
     "name": "stderr",
     "output_type": "stream",
     "text": [
      "100%|██████████| 300000/300000 [00:00<00:00, 1115781.37it/s]\n"
     ]
    },
    {
     "name": "stdout",
     "output_type": "stream",
     "text": [
      "Inserted all values for m =  12000000\n"
     ]
    },
    {
     "name": "stderr",
     "output_type": "stream",
     "text": [
      "100%|██████████| 300000/300000 [00:00<00:00, 1137190.63it/s]\n"
     ]
    },
    {
     "name": "stdout",
     "output_type": "stream",
     "text": [
      "Inserted all values for m =  13000000\n"
     ]
    },
    {
     "name": "stderr",
     "output_type": "stream",
     "text": [
      "100%|██████████| 300000/300000 [00:00<00:00, 1115759.61it/s]\n"
     ]
    },
    {
     "name": "stdout",
     "output_type": "stream",
     "text": [
      "Inserted all values for m =  14000000\n"
     ]
    },
    {
     "name": "stderr",
     "output_type": "stream",
     "text": [
      "100%|██████████| 300000/300000 [00:00<00:00, 1103821.34it/s]\n"
     ]
    },
    {
     "name": "stdout",
     "output_type": "stream",
     "text": [
      "Inserted all values for m =  15000000\n"
     ]
    },
    {
     "name": "stderr",
     "output_type": "stream",
     "text": [
      "100%|██████████| 300000/300000 [00:00<00:00, 1037682.07it/s]\n"
     ]
    },
    {
     "name": "stdout",
     "output_type": "stream",
     "text": [
      "Inserted all values for m =  16000000\n"
     ]
    },
    {
     "name": "stderr",
     "output_type": "stream",
     "text": [
      "100%|██████████| 300000/300000 [00:00<00:00, 1141266.84it/s]\n"
     ]
    },
    {
     "name": "stdout",
     "output_type": "stream",
     "text": [
      "Inserted all values for m =  17000000\n"
     ]
    },
    {
     "name": "stderr",
     "output_type": "stream",
     "text": [
      "100%|██████████| 300000/300000 [00:00<00:00, 1120096.99it/s]\n"
     ]
    },
    {
     "name": "stdout",
     "output_type": "stream",
     "text": [
      "Inserted all values for m =  18000000\n"
     ]
    },
    {
     "name": "stderr",
     "output_type": "stream",
     "text": [
      "100%|██████████| 300000/300000 [00:00<00:00, 1084050.65it/s]\n"
     ]
    },
    {
     "name": "stdout",
     "output_type": "stream",
     "text": [
      "Inserted all values for m =  19000000\n"
     ]
    },
    {
     "name": "stderr",
     "output_type": "stream",
     "text": [
      "100%|██████████| 300000/300000 [00:00<00:00, 1184174.88it/s]\n"
     ]
    },
    {
     "data": {
      "image/png": "[encoded data removed]",
      "text/plain": [
       "<Figure size 640x480 with 1 Axes>"
      ]
     },
     "metadata": {},
     "output_type": "display_data"
    }
   ],
   "source": [
    "m_values = range(int(1e7), int(2e7), int(1e6))\n",
    "false_positives, false_negatives = test_bloom_filter(m_values, values_to_check, insert_set)\n",
    "plot_false_positives_and_negatives(m_values, false_positives, false_negatives)"
   ]
  },
  {
   "cell_type": "code",
   "execution_count": 45,
   "id": "f7409e31",
   "metadata": {},
   "outputs": [
    {
     "name": "stdout",
     "output_type": "stream",
     "text": [
      "[(10000000, 0.20791333333333334), (11000000, 0.19013666666666668), (12000000, 0.15004), (13000000, 0.12406333333333333), (14000000, 0.13668333333333332), (15000000, 0.12420666666666667), (16000000, 0.11181), (17000000, 0.07909), (18000000, 0.08900333333333334), (19000000, 0.08060333333333333)]\n"
     ]
    }
   ],
   "source": [
    "print(list(zip(m_values, false_positives)))"
   ]
  },
  {
   "cell_type": "code",
   "execution_count": null,
   "id": "b3bfe103",
   "metadata": {},
   "outputs": [
    {
     "name": "stdout",
     "output_type": "stream",
     "text": [
      "Inserted all values for m =  16000000\n"
     ]
    },
    {
     "name": "stderr",
     "output_type": "stream",
     "text": [
      "100%|██████████| 300000/300000 [00:00<00:00, 1205584.26it/s]\n"
     ]
    },
    {
     "name": "stdout",
     "output_type": "stream",
     "text": [
      "Inserted all values for m =  16100000\n"
     ]
    },
    {
     "name": "stderr",
     "output_type": "stream",
     "text": [
      "100%|██████████| 300000/300000 [00:00<00:00, 1166126.40it/s]\n"
     ]
    },
    {
     "name": "stdout",
     "output_type": "stream",
     "text": [
      "Inserted all values for m =  16200000\n"
     ]
    },
    {
     "name": "stderr",
     "output_type": "stream",
     "text": [
      "100%|██████████| 300000/300000 [00:00<00:00, 1178712.77it/s]\n"
     ]
    },
    {
     "name": "stdout",
     "output_type": "stream",
     "text": [
      "Inserted all values for m =  16300000\n"
     ]
    },
    {
     "name": "stderr",
     "output_type": "stream",
     "text": [
      "100%|██████████| 300000/300000 [00:00<00:00, 1093965.54it/s]\n"
     ]
    },
    {
     "name": "stdout",
     "output_type": "stream",
     "text": [
      "Inserted all values for m =  16400000\n"
     ]
    },
    {
     "name": "stderr",
     "output_type": "stream",
     "text": [
      "100%|██████████| 300000/300000 [00:00<00:00, 1154729.30it/s]\n"
     ]
    },
    {
     "name": "stdout",
     "output_type": "stream",
     "text": [
      "Inserted all values for m =  16500000\n"
     ]
    },
    {
     "name": "stderr",
     "output_type": "stream",
     "text": [
      "100%|██████████| 300000/300000 [00:00<00:00, 1100517.68it/s]\n"
     ]
    },
    {
     "name": "stdout",
     "output_type": "stream",
     "text": [
      "Inserted all values for m =  16600000\n"
     ]
    },
    {
     "name": "stderr",
     "output_type": "stream",
     "text": [
      "100%|██████████| 300000/300000 [00:00<00:00, 1123141.35it/s]\n"
     ]
    },
    {
     "name": "stdout",
     "output_type": "stream",
     "text": [
      "Inserted all values for m =  16700000\n"
     ]
    },
    {
     "name": "stderr",
     "output_type": "stream",
     "text": [
      "100%|██████████| 300000/300000 [00:00<00:00, 1046450.83it/s]\n"
     ]
    },
    {
     "name": "stdout",
     "output_type": "stream",
     "text": [
      "Inserted all values for m =  16800000\n"
     ]
    },
    {
     "name": "stderr",
     "output_type": "stream",
     "text": [
      "100%|██████████| 300000/300000 [00:00<00:00, 1038328.56it/s]\n"
     ]
    },
    {
     "name": "stdout",
     "output_type": "stream",
     "text": [
      "Inserted all values for m =  16900000\n"
     ]
    },
    {
     "name": "stderr",
     "output_type": "stream",
     "text": [
      "100%|██████████| 300000/300000 [00:00<00:00, 982662.29it/s] \n"
     ]
    },
    {
     "data": {
      "image/png": "[encoded data removed]",
      "text/plain": [
       "<Figure size 640x480 with 1 Axes>"
      ]
     },
     "metadata": {},
     "output_type": "display_data"
    }
   ],
   "source": [
    "m_values = range(16000000, 17000000, 100000)\n",
    "false_positives, false_negatives = test_bloom_filter(m_values, values_to_check, insert_set)\n",
    "plot_false_positives_and_negatives(m_values, false_positives, false_negatives)"
   ]
  },
  {
   "cell_type": "code",
   "execution_count": 47,
   "id": "39c5d061",
   "metadata": {},
   "outputs": [
    {
     "name": "stdout",
     "output_type": "stream",
     "text": [
      "[(16000000, 0.0), (16100000, 0.0), (16200000, 0.0), (16300000, 0.0), (16400000, 0.0), (16500000, 0.0), (16600000, 0.0), (16700000, 0.0), (16800000, 0.0), (16900000, 0.0)]\n"
     ]
    }
   ],
   "source": [
    "print(list(zip(m_values, false_positives)))"
   ]
  }
 ],
 "metadata": {
  "kernelspec": {
   "display_name": "cs6386",
   "language": "python",
   "name": "python3"
  },
  "language_info": {
   "codemirror_mode": {
    "name": "ipython",
    "version": 3
   },
   "file_extension": ".py",
   "mimetype": "text/x-python",
   "name": "python",
   "nbconvert_exporter": "python",
   "pygments_lexer": "ipython3",
   "version": "3.13.2"
  }
 },
 "nbformat": 4,
 "nbformat_minor": 5
}
